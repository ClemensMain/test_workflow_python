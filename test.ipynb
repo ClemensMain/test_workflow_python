{
 "cells": [
  {
   "cell_type": "markdown",
   "id": "4e250ec8",
   "metadata": {},
   "source": [
    "# This is a Test\n",
    "how do I commit this now to GitHub?"
   ]
  },
  {
   "cell_type": "markdown",
   "id": "2c6ac29f",
   "metadata": {},
   "source": []
  }
 ],
 "metadata": {
  "kernelspec": {
   "display_name": "env_intro",
   "language": "python",
   "name": "python3"
  },
  "language_info": {
   "name": "python",
   "version": "3.12.10"
  }
 },
 "nbformat": 4,
 "nbformat_minor": 5
}
