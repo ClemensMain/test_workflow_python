{
 "cells": [
  {
   "cell_type": "markdown",
   "id": "4e250ec8",
   "metadata": {},
   "source": [
    "# This is a Test\n",
    "how do I commit this now to GitHub?"
   ]
  },
  {
   "cell_type": "markdown",
   "id": "2c6ac29f",
   "metadata": {},
   "source": [
    "```markdown\n",
    "# Beispieltest\n",
    "\n",
    "Ein Beispieltest könnte wie folgt aussehen:\n",
    "\n",
    "1. **Testbeschreibung**: Beschreiben Sie, was getestet werden soll.\n",
    "2. **Eingabedaten**: Definieren Sie die Eingabewerte für den Test.\n",
    "3. **Erwartetes Ergebnis**: Dokumentieren Sie das erwartete Ergebnis.\n",
    "4. **Tatsächliches Ergebnis**: Notieren Sie das tatsächliche Ergebnis nach der Durchführung des Tests.\n",
    "5. **Ergebnisbewertung**: Vergleichen Sie das erwartete und das tatsächliche Ergebnis, um festzustellen, ob der Test bestanden wurde.\n",
    "\n",
    "### Beispiel:\n",
    "- **Testbeschreibung**: Überprüfung, ob die Funktion `addiere(a, b)` zwei Zahlen korrekt addiert.\n",
    "- **Eingabedaten**: `a = 3`, `b = 5`\n",
    "- **Erwartetes Ergebnis**: `8`\n",
    "- **Tatsächliches Ergebnis**: `8`\n",
    "- **Ergebnisbewertung**: Test bestanden.\n",
    "```"
   ]
  },
  {
   "cell_type": "markdown",
   "id": "480364dc",
   "metadata": {},
   "source": [
    "Das ist doch eine Änderung?!"
   ]
  }
 ],
 "metadata": {
  "kernelspec": {
   "display_name": "env_intro",
   "language": "python",
   "name": "python3"
  },
  "language_info": {
   "name": "python",
   "version": "3.12.10"
  }
 },
 "nbformat": 4,
 "nbformat_minor": 5
}
